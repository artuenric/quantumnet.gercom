{
 "cells": [
  {
   "cell_type": "code",
   "execution_count": null,
   "id": "168cd305",
   "metadata": {},
   "outputs": [],
   "source": [
    "from netsquid.nodes.node import Node\n",
    "from netsquid.nodes.network import Network\n",
    "from netsquid.qubits.operators import X\n",
    "from netsquid.components import QuantumChannel, ClassicalChannel\n",
    "from netsquid.nodes.connection import DirectConnection\n",
    "\n",
    "# Cria a rede\n",
    "net = Network(\"Árvore\")\n",
    "\n",
    "# Cria os nós da rede\n",
    "nodes = [Node(f\"Node {i}\") for i in range(12)]\n",
    "\n",
    "# Cria o roteador\n",
    "router = Node(\"Router\")\n",
    "\n",
    "# Cria os canais quânticos e clássicos entre os nós e o roteador\n",
    "quantum_channels = [QuantumChannel(\"Quantum Channel\", delay=0.1) for i in range(12)]\n",
    "classical_channels = [ClassicalChannel(\"Classical Channel\", delay=0.1) for i in range(12)]\n",
    "\n",
    "# Conecta os nós em topologia de árvore\n",
    "for i in range(1, 12):\n",
    "    parent = (i - 1) // 2\n",
    "    # Conecta o nó i ao seu pai\n",
    "    conn = DirectConnection(nodes[i], nodes[parent], quantum_channels[i], quantum_channels[parent],\n",
    "                            classical_channels[i], classical_channels[parent])\n",
    "    # Adiciona a conexão à rede\n",
    "    net.add_connection(conn)\n",
    "\n",
    "# Conecta o roteador ao nó 0\n",
    "conn = DirectConnection(router, nodes[0], quantum_channels[0], quantum_channels[11],\n",
    "                          classical_channels[0], classical_channels[11])\n",
    "# Adiciona a conexão à rede\n",
    "net.add_connection(conn)\n",
    "\n",
    "# Inicializa os qubits no nó 0\n",
    "qubit = nodes[0].qmemory.pop(0)\n",
    "X(qubit)\n",
    "quantum_channels[0].put(qubit)\n",
    "\n",
    "# Executa a simulação por 10 unidades de tempo\n",
    "net.start()\n",
    "net.run(10)\n",
    "net.stop()\n"
   ]
  },
  {
   "cell_type": "markdown",
   "id": "aac27971",
   "metadata": {},
   "source": [
    "Neste exemplo, criamos uma rede com 12 nós (numerados de 0 a 11) e um roteador. Os nós são conectados em topologia de árvore, ou seja, o nó 0 é a raiz da árvore e é conectado aos nós 1 e 2, que por sua vez são conectados aos nós 3 e 4, e assim por diante, até os nós 10 e 11 serem conectados aos nós 5 e 6, respectivamente.\n",
    "\n",
    "Além disso, o roteador é conectado ao nó 0 para permitir que ele se comunique com nós fora da árvore.\n",
    "\n",
    "Para simular a rede, inicializamos o qubit no nó 0 e aplicamos uma operação X nele para que possa ser distinguido dos outros qubits durante a simulação. Em seguida, executamos a simulação por 10 unidades de tempo e depois paramos a rede."
   ]
  }
 ],
 "metadata": {
  "kernelspec": {
   "display_name": "Python 3 (ipykernel)",
   "language": "python",
   "name": "python3"
  },
  "language_info": {
   "codemirror_mode": {
    "name": "ipython",
    "version": 3
   },
   "file_extension": ".py",
   "mimetype": "text/x-python",
   "name": "python",
   "nbconvert_exporter": "python",
   "pygments_lexer": "ipython3",
   "version": "3.9.7"
  }
 },
 "nbformat": 4,
 "nbformat_minor": 5
}
