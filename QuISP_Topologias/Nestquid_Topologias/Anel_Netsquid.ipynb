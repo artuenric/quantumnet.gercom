{
 "cells": [
  {
   "cell_type": "code",
   "execution_count": null,
   "id": "252e8884",
   "metadata": {},
   "outputs": [],
   "source": [
    "from netsquid.nodes.node import Node\n",
    "from netsquid.nodes.network import Network\n",
    "from netsquid.qubits.operators import X\n",
    "from netsquid.components import QuantumChannel, ClassicalChannel\n",
    "from netsquid.nodes.connection import DirectConnection\n",
    "\n",
    "# Cria a rede\n",
    "net = Network(\"Anel\")\n",
    "\n",
    "# Cria os nós da rede\n",
    "nodes = [Node(f\"Node {i}\") for i in range(12)]\n",
    "\n",
    "# Cria o roteador\n",
    "router = Node(\"Router\")\n",
    "\n",
    "# Cria os canais quânticos e clássicos entre os nós e o roteador\n",
    "quantum_channels = [QuantumChannel(\"Quantum Channel\", delay=0.1) for i in range(12)]\n",
    "classical_channels = [ClassicalChannel(\"Classical Channel\", delay=0.1) for i in range(12)]\n",
    "\n",
    "# Conecta os nós em topologia de anel\n",
    "for i in range(12):\n",
    "    j = (i + 1) % 12\n",
    "    # Conecta os nós i e j\n",
    "    conn = DirectConnection(nodes[i], nodes[j], quantum_channels[i], quantum_channels[j],\n",
    "                            classical_channels[i], classical_channels[j])\n",
    "    # Adiciona a conexão à rede\n",
    "    net.add_connection(conn)\n",
    "\n",
    "# Conecta o roteador aos nós 0 e 6\n",
    "conn0 = DirectConnection(router, nodes[0], quantum_channels[0], quantum_channels[6],\n",
    "                          classical_channels[0], classical_channels[6])\n",
    "conn6 = DirectConnection(router, nodes[6], quantum_channels[6], quantum_channels[0],\n",
    "                          classical_channels[6], classical_channels[0])\n",
    "# Adiciona as conexões à rede\n",
    "net.add_connection(conn0)\n",
    "net.add_connection(conn6)\n",
    "\n",
    "# Inicializa os qubits nos nós 0 e 6\n",
    "for i in [0, 6]:\n",
    "    qubit = nodes[i].qmemory.pop(0)\n",
    "    X(qubit)\n",
    "    quantum_channels[i].put(qubit)\n",
    "\n",
    "# Executa a simulação por 10 unidades de tempo\n",
    "net.start()\n",
    "net.run(10)\n",
    "net.stop()\n"
   ]
  },
  {
   "cell_type": "markdown",
   "id": "93a350a3",
   "metadata": {},
   "source": [
    "Neste exemplo, criamos uma rede com 12 nós (numerados de 0 a 11) e um roteador. Os nós são conectados em topologia de anel, ou seja, o nó 0 é conectado ao nó 1, o nó 1 é conectado ao nó 2, e assim por diante, até o nó 11 ser conectado ao nó 0.\n",
    "\n",
    "Além disso, o roteador é conectado aos nós 0 e 6 para permitir que eles se comuniquem com nós fora do anel.\n",
    "\n",
    "Para simular a rede, inicializamos os qubits nos nós 0 e 6 e aplicamos uma operação X neles para que possam ser distinguidos dos outros qubits durante a simulação. Em seguida, executamos a simulação por 10 unidades de tempo e depois paramos a rede."
   ]
  }
 ],
 "metadata": {
  "kernelspec": {
   "display_name": "Python 3 (ipykernel)",
   "language": "python",
   "name": "python3"
  },
  "language_info": {
   "codemirror_mode": {
    "name": "ipython",
    "version": 3
   },
   "file_extension": ".py",
   "mimetype": "text/x-python",
   "name": "python",
   "nbconvert_exporter": "python",
   "pygments_lexer": "ipython3",
   "version": "3.9.7"
  }
 },
 "nbformat": 4,
 "nbformat_minor": 5
}
