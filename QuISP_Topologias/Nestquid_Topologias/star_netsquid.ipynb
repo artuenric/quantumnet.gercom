{
 "cells": [
  {
   "cell_type": "code",
   "execution_count": null,
   "id": "07f737fe",
   "metadata": {},
   "outputs": [],
   "source": [
    "from netsquid.nodes.node import Node\n",
    "from netsquid.nodes.network import Network\n",
    "from netsquid.qubits.operators import X\n",
    "from netsquid.components import QuantumChannel, ClassicalChannel\n",
    "from netsquid.nodes.connection import DirectConnection\n",
    "from netsquid.qubits.qubitapi import create_qubits\n",
    "\n",
    "# Cria a rede\n",
    "net = Network(\"Star\")\n",
    "\n",
    "# Cria os nós da rede\n",
    "nodes = [Node(f\"Node {i}\") for i in range(12)]\n",
    "\n",
    "# Cria o roteador\n",
    "router = Node(\"Router\")\n",
    "\n",
    "# Cria os canais quânticos e clássicos entre o roteador e os nós\n",
    "quantum_channels = [QuantumChannel(\"Quantum Channel\", delay=0.1) for i in range(12)]\n",
    "classical_channels = [ClassicalChannel(\"Classical Channel\", delay=0.1) for i in range(12)]\n",
    "\n",
    "# Conecta cada nó ao roteador\n",
    "for i in range(12):\n",
    "    conn = DirectConnection(router, nodes[i], quantum_channels[i], quantum_channels[i],\n",
    "                            classical_channels[i], classical_channels[i])\n",
    "    net.add_connection(conn)\n",
    "\n",
    "# Inicializa os qubits em todos os nós\n",
    "for node in nodes:\n",
    "    node.qmemory.add(create_qubits(1))\n",
    "\n",
    "# Executa a simulação por 10 unidades de tempo\n",
    "net.start()\n",
    "net.run(10)\n",
    "net.stop()\n"
   ]
  },
  {
   "cell_type": "markdown",
   "id": "477f2b6a",
   "metadata": {},
   "source": [
    "Neste exemplo, criamos uma rede com 12 nós (numerados de 0 a 11) e um roteador. Os nós são conectados em topologia de estrela, ou seja, todos os nós são conectados diretamente ao roteador.\n",
    "\n",
    "Para simular a rede, inicializamos os qubits em todos os nós e executamos a simulação por 10 unidades de tempo."
   ]
  }
 ],
 "metadata": {
  "kernelspec": {
   "display_name": "Python 3 (ipykernel)",
   "language": "python",
   "name": "python3"
  },
  "language_info": {
   "codemirror_mode": {
    "name": "ipython",
    "version": 3
   },
   "file_extension": ".py",
   "mimetype": "text/x-python",
   "name": "python",
   "nbconvert_exporter": "python",
   "pygments_lexer": "ipython3",
   "version": "3.9.7"
  }
 },
 "nbformat": 4,
 "nbformat_minor": 5
}
