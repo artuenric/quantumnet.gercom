{
 "cells": [
  {
   "cell_type": "code",
   "execution_count": null,
   "id": "572b59ba",
   "metadata": {},
   "outputs": [],
   "source": [
    "from netsquid.nodes.node import Node\n",
    "from netsquid.nodes.network import Network\n",
    "from netsquid.qubits.operators import X\n",
    "from netsquid.components import QuantumChannel, ClassicalChannel\n",
    "from netsquid.nodes.connection import DirectConnection\n",
    "from netsquid.qubits.qubitapi import create_qubits\n",
    "\n",
    "# Cria a rede\n",
    "net = Network(\"Bar\")\n",
    "\n",
    "# Cria os nós da rede\n",
    "nodes = [Node(f\"Node {i}\") for i in range(12)]\n",
    "\n",
    "# Cria o roteador\n",
    "router = Node(\"Router\")\n",
    "\n",
    "# Cria os canais quânticos e clássicos entre os nós e o roteador\n",
    "quantum_channels = [[QuantumChannel(\"Quantum Channel\", delay=0.1) for j in range(2)] for i in range(12)]\n",
    "classical_channels = [[ClassicalChannel(\"Classical Channel\", delay=0.1) for j in range(2)] for i in range(12)]\n",
    "\n",
    "# Cria a topologia de barra\n",
    "for i in range(11):\n",
    "    # Conecta o nó i ao nó (i+1)\n",
    "    conn = DirectConnection(nodes[i], nodes[i+1], quantum_channels[i][1], quantum_channels[i+1][0],\n",
    "                            classical_channels[i][1], classical_channels[i+1][0])\n",
    "    net.add_connection(conn)\n",
    "\n",
    "# Conecta o roteador ao nó 0 e ao nó 11\n",
    "conn = DirectConnection(router, nodes[0], quantum_channels[0][0], quantum_channels[0][1],\n",
    "                        classical_channels[0][0], classical_channels[0][1])\n",
    "net.add_connection(conn)\n",
    "conn = DirectConnection(router, nodes[11], quantum_channels[11][0], quantum_channels[11][1],\n",
    "                        classical_channels[11][0], classical_channels[11][1])\n",
    "net.add_connection(conn)\n",
    "\n",
    "# Inicializa os qubits em todos os nós\n",
    "for node in nodes:\n",
    "    node.qmemory.add(create_qubits(1))\n",
    "\n",
    "# Executa a simulação por 10 unidades de tempo\n",
    "net.start()\n",
    "net.run(10)\n",
    "net.stop()\n"
   ]
  },
  {
   "cell_type": "markdown",
   "id": "b407f8bf",
   "metadata": {},
   "source": [
    "Neste exemplo, criamos uma rede com 12 nós (numerados de 0 a 11) e um roteador. Os nós são conectados em topologia de barra, ou seja, são organizados em uma linha reta.\n",
    "\n",
    "Além disso, o roteador é conectado aos nós 0 e 11 para permitir que ele se comunique com os extremos da barra.\n",
    "\n",
    "Para simular a rede, inicializamos os qubits em todos os nós e executamos a simulação por 10 unidades de tempo."
   ]
  }
 ],
 "metadata": {
  "kernelspec": {
   "display_name": "Python 3 (ipykernel)",
   "language": "python",
   "name": "python3"
  },
  "language_info": {
   "codemirror_mode": {
    "name": "ipython",
    "version": 3
   },
   "file_extension": ".py",
   "mimetype": "text/x-python",
   "name": "python",
   "nbconvert_exporter": "python",
   "pygments_lexer": "ipython3",
   "version": "3.9.7"
  }
 },
 "nbformat": 4,
 "nbformat_minor": 5
}
