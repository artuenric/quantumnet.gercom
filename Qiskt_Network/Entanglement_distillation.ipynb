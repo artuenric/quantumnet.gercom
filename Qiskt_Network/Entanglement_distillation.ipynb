{
 "cells": [
  {
   "cell_type": "raw",
   "id": "df8cb157",
   "metadata": {},
   "source": [
    "Entanglement distillation é um processo que permite transformar pares de qubits emaranhados imperfeitos em pares de qubits emaranhados de alta qualidade. O circuito de entanglement distillation usa uma série de portas quânticas e medições para filtrar os estados emaranhados de baixa qualidade e extrair um estado emaranhado de alta qualidade a partir deles."
   ]
  },
  {
   "cell_type": "raw",
   "id": "65c12d56",
   "metadata": {},
   "source": [
    "Para implementar o circuito de entanglement distillation no Qiskit, podemos usar a função entanglement_distillation_circuit do módulo qiskit.ignis.verification.entanglement para gerar o circuito necessário para realizar a entanglement distillation. O seguinte código mostra um exemplo de como implementar a entanglement distillation para um par de qubits:"
   ]
  },
  {
   "cell_type": "code",
   "execution_count": 1,
   "id": "53763581",
   "metadata": {},
   "outputs": [
    {
     "ename": "ImportError",
     "evalue": "cannot import name 'EntanglementVerification' from 'qiskit_experiments.library' (C:\\Users\\diego\\anaconda3\\lib\\site-packages\\qiskit_experiments\\library\\__init__.py)",
     "output_type": "error",
     "traceback": [
      "\u001b[1;31m---------------------------------------------------------------------------\u001b[0m",
      "\u001b[1;31mImportError\u001b[0m                               Traceback (most recent call last)",
      "\u001b[1;32m~\\AppData\\Local\\Temp/ipykernel_11404/3214285690.py\u001b[0m in \u001b[0;36m<module>\u001b[1;34m\u001b[0m\n\u001b[0;32m      1\u001b[0m \u001b[1;32mfrom\u001b[0m \u001b[0mqiskit\u001b[0m \u001b[1;32mimport\u001b[0m \u001b[0mQuantumCircuit\u001b[0m\u001b[1;33m,\u001b[0m \u001b[0mexecute\u001b[0m\u001b[1;33m,\u001b[0m \u001b[0mAer\u001b[0m\u001b[1;33m\u001b[0m\u001b[1;33m\u001b[0m\u001b[0m\n\u001b[1;32m----> 2\u001b[1;33m \u001b[1;32mfrom\u001b[0m \u001b[0mqiskit_experiments\u001b[0m\u001b[1;33m.\u001b[0m\u001b[0mlibrary\u001b[0m \u001b[1;32mimport\u001b[0m \u001b[0mEntanglementVerification\u001b[0m\u001b[1;33m\u001b[0m\u001b[1;33m\u001b[0m\u001b[0m\n\u001b[0m\u001b[0;32m      3\u001b[0m \u001b[1;33m\u001b[0m\u001b[0m\n\u001b[0;32m      4\u001b[0m \u001b[1;31m# Criando o circuito quântico de teste\u001b[0m\u001b[1;33m\u001b[0m\u001b[1;33m\u001b[0m\u001b[0m\n\u001b[0;32m      5\u001b[0m \u001b[0mqc\u001b[0m \u001b[1;33m=\u001b[0m \u001b[0mQuantumCircuit\u001b[0m\u001b[1;33m(\u001b[0m\u001b[1;36m2\u001b[0m\u001b[1;33m,\u001b[0m \u001b[1;36m2\u001b[0m\u001b[1;33m)\u001b[0m\u001b[1;33m\u001b[0m\u001b[1;33m\u001b[0m\u001b[0m\n",
      "\u001b[1;31mImportError\u001b[0m: cannot import name 'EntanglementVerification' from 'qiskit_experiments.library' (C:\\Users\\diego\\anaconda3\\lib\\site-packages\\qiskit_experiments\\library\\__init__.py)"
     ]
    }
   ],
   "source": [
    "from qiskit import QuantumCircuit, execute, Aer\n",
    "from qiskit_experiments.library import EntanglementVerification"
   ]
  },
  {
   "cell_type": "code",
   "execution_count": null,
   "id": "d2106f5f",
   "metadata": {},
   "outputs": [],
   "source": [
    "# Criando o circuito quântico de teste\n",
    "qc = QuantumCircuit(2, 2)\n",
    "qc.h(0)\n",
    "qc.cx(0, 1)\n",
    "qc.barrier()\n",
    "\n",
    "# Gerando o circuito de entanglement distillation\n",
    "distill_circ = EntanglementVerification(num_qubits=2, circuit_name='distillation')\n",
    "\n",
    "# Adicionando o circuito de entanglement distillation ao circuito de teste\n",
    "qc.append(distill_circ, [0, 1])\n",
    "\n",
    "# Medindo os qubits\n",
    "qc.measure([0, 1], [0, 1])\n",
    "\n",
    "# Executando o circuito no simulador de qubits\n",
    "backend = Aer.get_backend('qasm_simulator')\n",
    "job = execute(qc, backend, shots=1000)\n",
    "results = job.result()\n",
    "\n",
    "# Imprimindo os resultados\n",
    "print(results.get_counts(qc))"
   ]
  },
  {
   "cell_type": "markdown",
   "id": "29c1ef92",
   "metadata": {},
   "source": [
    "Neste exemplo, criamos um circuito quântico com dois qubits e adicionamos uma porta Hadamard no primeiro qubit e uma porta CNOT entre os dois qubits. Em seguida, usamos a função entanglement_distillation_circuit para gerar o circuito de entanglement distillation para filtrar o estado emaranhado imperfeito e extrair um estado emaranhado de alta qualidade a partir dele. Em seguida, adicionamos o circuito de entanglement distillation ao circuito de teste e medimos os qubits. Por fim, executamos o circuito no simulador de qubits e imprimimos os resultados."
   ]
  }
 ],
 "metadata": {
  "kernelspec": {
   "display_name": "Python 3 (ipykernel)",
   "language": "python",
   "name": "python3"
  },
  "language_info": {
   "codemirror_mode": {
    "name": "ipython",
    "version": 3
   },
   "file_extension": ".py",
   "mimetype": "text/x-python",
   "name": "python",
   "nbconvert_exporter": "python",
   "pygments_lexer": "ipython3",
   "version": "3.9.7"
  }
 },
 "nbformat": 4,
 "nbformat_minor": 5
}
