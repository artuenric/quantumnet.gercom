{
 "cells": [
  {
   "cell_type": "code",
   "execution_count": 1,
   "id": "bc4e7e15",
   "metadata": {},
   "outputs": [],
   "source": [
    "import qiskit"
   ]
  },
  {
   "cell_type": "code",
   "execution_count": 2,
   "id": "830d2ee4",
   "metadata": {},
   "outputs": [
    {
     "data": {
      "text/plain": [
       "{'qiskit-terra': '0.23.1', 'qiskit-aer': '0.11.2', 'qiskit-ignis': '0.7.1', 'qiskit-ibmq-provider': '0.20.0', 'qiskit': '0.41.0', 'qiskit-nature': None, 'qiskit-finance': None, 'qiskit-optimization': None, 'qiskit-machine-learning': '0.5.0'}"
      ]
     },
     "execution_count": 2,
     "metadata": {},
     "output_type": "execute_result"
    }
   ],
   "source": [
    "qiskit.__qiskit_version__"
   ]
  },
  {
   "cell_type": "code",
   "execution_count": 3,
   "id": "df86506d",
   "metadata": {},
   "outputs": [
    {
     "name": "stdout",
     "output_type": "stream",
     "text": [
      "{'1 0 0': 152, '0 0 1': 133, '1 1 1': 119, '1 0 1': 132, '0 1 0': 145, '1 1 0': 113, '0 1 1': 97, '0 0 0': 133}\n"
     ]
    }
   ],
   "source": [
    "from qiskit import QuantumCircuit, ClassicalRegister, QuantumRegister, execute, Aer\n",
    "\n",
    "# Criando o circuito\n",
    "q = QuantumRegister(3, 'q')\n",
    "c0 = ClassicalRegister(1, 'c0')\n",
    "c1 = ClassicalRegister(1, 'c1')\n",
    "c2 = ClassicalRegister(1, 'c2')\n",
    "circuito = QuantumCircuit(q, c0, c1, c2)\n",
    "\n",
    "# Criando um estado para teletransportar\n",
    "circuito.h(q[1])\n",
    "circuito.cx(q[1], q[2])\n",
    "\n",
    "# Preparando o estado a ser teletransportado\n",
    "circuito.x(q[0])\n",
    "circuito.h(q[0])\n",
    "\n",
    "# Teletransporte\n",
    "circuito.cx(q[0], q[1])\n",
    "circuito.h(q[0])\n",
    "circuito.measure(q[0], c0)\n",
    "circuito.measure(q[1], c1)\n",
    "\n",
    "# Reconstruindo o estado teletransportado\n",
    "circuito.x(q[2]).c_if(c0, 1)\n",
    "circuito.z(q[2]).c_if(c1, 1)\n",
    "circuito.measure(q[2], c2)\n",
    "\n",
    "# Executando o circuito no simulador Aer\n",
    "simulador = Aer.get_backend('qasm_simulator')\n",
    "resultado = execute(circuito, simulador, shots=1024).result()\n",
    "\n",
    "# Imprimindo o resultado\n",
    "print(resultado.get_counts(circuito))\n"
   ]
  },
  {
   "cell_type": "markdown",
   "id": "cd2199c9",
   "metadata": {},
   "source": [
    "Neste exemplo, criamos um circuito quântico com três qubits e três bits clássicos. Primeiro, preparamos o estado que queremos teletransportar (qubit 0) e criamos o estado entrelaçado entre os qubits 1 e 2. Em seguida, realizamos o teletransporte em si, em que os qubits 0 e 1 são entrelaçados, o qubit 0 é medido e o resultado é enviado ao qubit 2, que é preparado de acordo. Por fim, medimos o qubit 2 e imprimimos os resultados."
   ]
  }
 ],
 "metadata": {
  "kernelspec": {
   "display_name": "Python 3 (ipykernel)",
   "language": "python",
   "name": "python3"
  },
  "language_info": {
   "codemirror_mode": {
    "name": "ipython",
    "version": 3
   },
   "file_extension": ".py",
   "mimetype": "text/x-python",
   "name": "python",
   "nbconvert_exporter": "python",
   "pygments_lexer": "ipython3",
   "version": "3.9.7"
  }
 },
 "nbformat": 4,
 "nbformat_minor": 5
}
