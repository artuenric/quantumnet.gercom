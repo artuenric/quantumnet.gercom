{
 "cells": [
  {
   "cell_type": "code",
   "execution_count": 1,
   "id": "c75c54dc",
   "metadata": {},
   "outputs": [],
   "source": [
    "import qiskit"
   ]
  },
  {
   "cell_type": "code",
   "execution_count": 2,
   "id": "4e227e4c",
   "metadata": {},
   "outputs": [
    {
     "data": {
      "text/plain": [
       "{'qiskit-terra': '0.23.1', 'qiskit-aer': '0.11.2', 'qiskit-ignis': '0.7.1', 'qiskit-ibmq-provider': '0.20.0', 'qiskit': '0.41.0', 'qiskit-nature': None, 'qiskit-finance': None, 'qiskit-optimization': None, 'qiskit-machine-learning': '0.5.0'}"
      ]
     },
     "execution_count": 2,
     "metadata": {},
     "output_type": "execute_result"
    }
   ],
   "source": [
    "qiskit.__qiskit_version__"
   ]
  },
  {
   "cell_type": "markdown",
   "id": "5f01e664",
   "metadata": {},
   "source": [
    "O circuito de purificação quântica é usado para criar um par de qubits entrelaçados a partir de dois estados que não são completamente entrelaçados."
   ]
  },
  {
   "cell_type": "code",
   "execution_count": 1,
   "id": "fa9336e6",
   "metadata": {},
   "outputs": [
    {
     "name": "stdout",
     "output_type": "stream",
     "text": [
      "A fidelidade do estado final é 0.4999999999999999\n",
      "{'0 0': 509, '1 0': 515}\n"
     ]
    }
   ],
   "source": [
    "from qiskit import QuantumCircuit, QuantumRegister, ClassicalRegister, execute, Aer\n",
    "from qiskit.quantum_info import state_fidelity\n",
    "import numpy as np\n",
    "\n",
    "# Criando os qubits\n",
    "q = QuantumRegister(4, 'q')\n",
    "c0 = ClassicalRegister(1, 'c0')\n",
    "c1 = ClassicalRegister(1, 'c1')\n",
    "circuito = QuantumCircuit(q, c0, c1)\n",
    "\n",
    "# Preparando os estados iniciais\n",
    "circuito.h(q[0])\n",
    "circuito.h(q[2])\n",
    "circuito.barrier()\n",
    "\n",
    "# Realizando a medida dos pares A e B\n",
    "circuito.measure(q[0], c0)\n",
    "circuito.measure(q[2], c1)\n",
    "\n",
    "# Realizando a correção do estado entre A e C\n",
    "circuito.z(q[1]).c_if(c0, 1)\n",
    "circuito.x(q[3]).c_if(c1, 1)\n",
    "circuito.barrier()\n",
    "\n",
    "# Realizando a medida dos pares B e C\n",
    "circuito.measure(q[1], c0)\n",
    "circuito.measure(q[3], c1)\n",
    "\n",
    "# Calculando a fidelidade do estado final\n",
    "simulador = Aer.get_backend('statevector_simulator')\n",
    "resultado = execute(circuito, simulador).result()\n",
    "estado_final = resultado.get_statevector(circuito)\n",
    "\n",
    "target_state = np.array([1, 0, 0, 1], dtype=complex) / np.sqrt(2)\n",
    "target_state = np.kron(np.kron(target_state, np.array([1, 0])), np.array([1, 0]))\n",
    "fidelity = state_fidelity(estado_final, target_state)\n",
    "print(f\"A fidelidade do estado final é {fidelity}\")\n",
    "\n",
    "# Executando o circuito no simulador Aer\n",
    "simulador = Aer.get_backend('qasm_simulator')\n",
    "resultado = execute(circuito, simulador, shots=1024).result()\n",
    "\n",
    "# Imprimindo o resultado\n",
    "print(resultado.get_counts(circuito))\n"
   ]
  },
  {
   "cell_type": "markdown",
   "id": "51d735ff",
   "metadata": {},
   "source": [
    "Criamos um circuito quântico com quatro qubits e dois bits clássicos. Primeiro, preparamos os estados iniciais dos pares A e C, que são os qubits 0 e 2, respectivamente. Em seguida, medimos os qubits 0 e 2 para criar dois bits clássicos que serão usados para corrigir o estado dos qubits 1 e 3 e criar entrelaçamento entre os pares B e C, que são os qubits 1 e 3. Depois, medimos os qubits 1 e 3 e calculamos a fidelidade do estado final com o estado desejado de um par de qubits entrelaçados. Finalmente, executamos o circuito no simulador Aer e imprimimos os resultados."
   ]
  }
 ],
 "metadata": {
  "kernelspec": {
   "display_name": "Python 3 (ipykernel)",
   "language": "python",
   "name": "python3"
  },
  "language_info": {
   "codemirror_mode": {
    "name": "ipython",
    "version": 3
   },
   "file_extension": ".py",
   "mimetype": "text/x-python",
   "name": "python",
   "nbconvert_exporter": "python",
   "pygments_lexer": "ipython3",
   "version": "3.9.7"
  }
 },
 "nbformat": 4,
 "nbformat_minor": 5
}
