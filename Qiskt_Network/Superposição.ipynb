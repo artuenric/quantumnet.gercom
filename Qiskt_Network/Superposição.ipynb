{
 "cells": [
  {
   "cell_type": "markdown",
   "id": "cc8d2e0b",
   "metadata": {},
   "source": [
    "Neste exemplo, criamos um circuito quântico de um qubit e aplicamos um gate Hadamard para criar a superposição. Em seguida, medimos o qubit e armazenamos o resultado em um bit clássico. Finalmente, executamos o circuito no simulador qasm_simulator e imprimimos os resultados."
   ]
  },
  {
   "cell_type": "code",
   "execution_count": 2,
   "id": "fa3612f4",
   "metadata": {},
   "outputs": [],
   "source": [
    "import qiskit"
   ]
  },
  {
   "cell_type": "code",
   "execution_count": 3,
   "id": "885a917f",
   "metadata": {},
   "outputs": [
    {
     "data": {
      "text/plain": [
       "{'qiskit-terra': '0.23.1', 'qiskit-aer': '0.11.2', 'qiskit-ignis': '0.7.1', 'qiskit-ibmq-provider': '0.20.0', 'qiskit': '0.41.0', 'qiskit-nature': None, 'qiskit-finance': None, 'qiskit-optimization': None, 'qiskit-machine-learning': '0.5.0'}"
      ]
     },
     "execution_count": 3,
     "metadata": {},
     "output_type": "execute_result"
    }
   ],
   "source": [
    "qiskit.__qiskit_version__"
   ]
  },
  {
   "cell_type": "code",
   "execution_count": 4,
   "id": "8f937fc3",
   "metadata": {},
   "outputs": [
    {
     "name": "stdout",
     "output_type": "stream",
     "text": [
      "{'0': 534, '1': 490}\n"
     ]
    }
   ],
   "source": [
    "from qiskit import QuantumCircuit, Aer, execute\n",
    "\n",
    "# Cria um circuito quântico com 1 qubit\n",
    "circuito = QuantumCircuit(1, 1)\n",
    "\n",
    "# Aplica um gate Hadamard no qubit\n",
    "circuito.h(0)\n",
    "\n",
    "# Mede o qubit e armazena o resultado em um bit clássico\n",
    "circuito.measure(0, 0)\n",
    "\n",
    "# Executa o circuito no simulador Aer\n",
    "simulador = Aer.get_backend('qasm_simulator')\n",
    "resultado = execute(circuito, simulador, shots=1024).result()\n",
    "\n",
    "# Imprime o resultado\n",
    "print(resultado.get_counts(circuito))\n"
   ]
  },
  {
   "cell_type": "markdown",
   "id": "1f9ba51b",
   "metadata": {},
   "source": [
    "Neste exemplo, criamos um circuito quântico de um qubit e aplicamos um gate Hadamard para criar a superposição. Em seguida, medimos o qubit e armazenamos o resultado em um bit clássico. Finalmente, executamos o circuito no simulador qasm_simulator e imprimimos os resultados."
   ]
  }
 ],
 "metadata": {
  "kernelspec": {
   "display_name": "Python 3 (ipykernel)",
   "language": "python",
   "name": "python3"
  },
  "language_info": {
   "codemirror_mode": {
    "name": "ipython",
    "version": 3
   },
   "file_extension": ".py",
   "mimetype": "text/x-python",
   "name": "python",
   "nbconvert_exporter": "python",
   "pygments_lexer": "ipython3",
   "version": "3.9.7"
  }
 },
 "nbformat": 4,
 "nbformat_minor": 5
}
