{
 "cells": [
  {
   "cell_type": "raw",
   "id": "dc459792",
   "metadata": {},
   "source": [
    "Usando o Qiskit, podemos implementar um protocolo de roteamento quântico baseado no algoritmo de Dijkstra da seguinte maneira:\n",
    "\n",
    "1.Codificar o grafo da rede em um circuito quântico.\n",
    "2.Inicializar o circuito com um estado superposto que representa todos os possíveis caminhos entre os nós.\n",
    "3.Aplicar portas quânticas que representam o cálculo do caminho mais curto entre os nós usando o algoritmo de Dijkstra.\n",
    "4.Medir o estado final do circuito para obter o caminho mais curto entre os nós.\n"
   ]
  },
  {
   "cell_type": "markdown",
   "id": "50172271",
   "metadata": {},
   "source": [
    "O roteamento em redes quânticas envolve o estabelecimento de caminhos de comunicação entre os nós, de modo que a informação possa ser transmitida com segurança e eficiência. O protocolo de roteamento mais comum é o algoritmo de QDijkstra, que encontra o caminho mais curto entre dois nós em uma rede.\n",
    "\n"
   ]
  },
  {
   "cell_type": "code",
   "execution_count": 3,
   "id": "96b17710",
   "metadata": {},
   "outputs": [],
   "source": [
    "from qiskit import QuantumCircuit, QuantumRegister, ClassicalRegister, execute, Aer\n",
    "import numpy as np"
   ]
  },
  {
   "cell_type": "code",
   "execution_count": null,
   "id": "13fd53e6",
   "metadata": {},
   "outputs": [],
   "source": [
    "# Definindo o grafo da rede\n",
    "graph = np.array([\n",
    "    [0, 1, 4, 0, 0],\n",
    "    [1, 0, 2, 5, 0],\n",
    "    [4, 2, 0, 1, 6],\n",
    "    [0, 5, 1, 0, 3],\n",
    "    [0, 0, 6, 3, 0]\n",
    "])"
   ]
  },
  {
   "cell_type": "code",
   "execution_count": null,
   "id": "8f2daa8b",
   "metadata": {},
   "outputs": [],
   "source": [
    "# Definindo o número de nós na rede\n",
    "num_nodes = graph.shape[0]\n",
    "\n",
    "# Definindo os registradores quânticos e clássicos\n",
    "qreg = QuantumRegister(num_nodes, 'q')\n",
    "creg = ClassicalRegister(num_nodes, 'c')\n",
    "\n",
    "# Criando o circuito quântico\n",
    "qc = QuantumCircuit(qreg, creg)\n",
    "\n",
    "# Inicializando o estado superposto\n",
    "qc.h(qreg)"
   ]
  },
  {
   "cell_type": "code",
   "execution_count": null,
   "id": "5ee069df",
   "metadata": {},
   "outputs": [],
   "source": [
    "# Realizando o cálculo do caminho mais curto com o algoritmo de Dijkstra\n",
    "for _ in range(num_nodes):\n",
    "    for i in range(num_nodes):\n",
    "        for j in range(num_nodes):\n",
    "            if graph[i,j] != 0:\n",
    "                qc.cu1(graph[i,j]/2, qreg[i], qreg[j])\n",
    "    for i in range(num_nodes):\n",
    "        qc.h(qreg[i])\n",
    "        qc.rz(2*np.pi/num_nodes, qreg[i])\n",
    "        qc.h(qreg[i])"
   ]
  },
  {
   "cell_type": "code",
   "execution_count": null,
   "id": "be510413",
   "metadata": {},
   "outputs": [],
   "source": [
    "# Medindo o estado final do circuito\n",
    "qc.measure(qreg, creg)"
   ]
  },
  {
   "cell_type": "code",
   "execution_count": null,
   "id": "9a2bff22",
   "metadata": {},
   "outputs": [],
   "source": [
    "# Executando o circuito no simulador de qubits\n",
    "backend = Aer.get_backend('qasm_simulator')\n",
    "job = execute(qc, backend, shots=1000)\n",
    "results = job.result()"
   ]
  },
  {
   "cell_type": "code",
   "execution_count": null,
   "id": "b940bc44",
   "metadata": {},
   "outputs": [],
   "source": [
    "# Imprimindo os resultados\n",
    "print(results.get_counts(qc))"
   ]
  },
  {
   "cell_type": "markdown",
   "id": "e5f4126e",
   "metadata": {},
   "source": [
    "Neste exemplo, definimos o grafo da rede como uma matriz de adjacência, que representa as conexões entre os nós da rede. Em seguida, criamos o circuito quântico com um registrador quântico para cada nó na rede e um registrador clássico correspondente para armazenar os resultados das medições. Em seguida, inicializamos o estado superposto no circuito e aplicamos portas quânticas que representam o cálculo do caminho mais curto"
   ]
  }
 ],
 "metadata": {
  "kernelspec": {
   "display_name": "Python 3 (ipykernel)",
   "language": "python",
   "name": "python3"
  },
  "language_info": {
   "codemirror_mode": {
    "name": "ipython",
    "version": 3
   },
   "file_extension": ".py",
   "mimetype": "text/x-python",
   "name": "python",
   "nbconvert_exporter": "python",
   "pygments_lexer": "ipython3",
   "version": "3.9.7"
  }
 },
 "nbformat": 4,
 "nbformat_minor": 5
}
